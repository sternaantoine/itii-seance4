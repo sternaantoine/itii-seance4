{
 "cells": [
  {
   "cell_type": "code",
   "execution_count": 41,
   "metadata": {},
   "outputs": [
    {
     "name": "stdout",
     "output_type": "stream",
     "text": [
      "Solutions de  1 x^2 + 6 x + 1 = 0\n",
      "Deux solutions : -5.82842712474619 et -0.1715728752538097\n"
     ]
    }
   ],
   "source": [
    "from math import sqrt\n",
    "\n",
    "def polynome(a, b, c, x):\n",
    "     return \"En\", x, \":\",\" a * x * x + b * x + c = 0\"\n",
    "\n",
    "def racine(a, b, c):\n",
    "    print(\"Solutions de \", a, \"x^2 +\", b, \"x +\", c, \"= 0\")\n",
    "    if a == 0:\n",
    "        if b == 0:\n",
    "            if c == 0:\n",
    "                print (\"Tout r ́eel est solution\")\n",
    "            else :\n",
    "                print (\"Aucune solution\")\n",
    "        else :\n",
    "            x = (-c * 1.0) / b\n",
    "            print (\"Une solution :\", polynome(a, b, c, x))\n",
    "    else :\n",
    "        d = b * b - 4 * a * c\n",
    "    if(d == 0): \n",
    "        x = -b / (2.0 * a) \n",
    "        print (\"Une solution :\", polynome(a, b, c, x) )\n",
    "    elif(d > 0):\n",
    "        r = sqrt(d) \n",
    "        x1 = (-b - r) / (2.0 * a) \n",
    "        x2 = (-b + r) / (2.0 * a)\n",
    "        print (\"Deux solutions :\", x1, \"et\", x2)\n",
    "        polynome(a, b, c, x1) \n",
    "        polynome(a, b, c, x2)\n",
    "    else :\n",
    "        print (\"Aucune solution\")\n",
    "\n",
    "racine(1,6,1)"
   ]
  },
  {
   "cell_type": "markdown",
   "metadata": {},
   "source": [
    "### Exercice 1\n"
   ]
  },
  {
   "cell_type": "markdown",
   "metadata": {},
   "source": [
    "#### 1"
   ]
  },
  {
   "cell_type": "code",
   "execution_count": 48,
   "metadata": {},
   "outputs": [
    {
     "data": {
      "image/png": "[encoded data removed]",
      "text/latex": [
       "$\\displaystyle \\left[ -3 - 2 \\sqrt{2}, \\  -3 + 2 \\sqrt{2}\\right]$"
      ],
      "text/plain": [
       "[-3 - 2⋅√2, -3 + 2⋅√2]"
      ]
     },
     "execution_count": 48,
     "metadata": {},
     "output_type": "execute_result"
    }
   ],
   "source": [
    "from sympy import *\n",
    "x = Symbol('x')\n",
    "init_printing()\n",
    "\n",
    "def trouve_racine(a, b, c):\n",
    "    return solve (a * x**2 + b*x +c)\n",
    "\n",
    "trouve_racine(1,6,1)\n",
    "    "
   ]
  },
  {
   "cell_type": "markdown",
   "metadata": {},
   "source": [
    "#### 2"
   ]
  },
  {
   "cell_type": "code",
   "execution_count": 49,
   "metadata": {},
   "outputs": [
    {
     "data": {
      "image/png": "[encoded data removed]",
      "text/latex": [
       "$\\displaystyle 2.46740110027234$"
      ],
      "text/plain": [
       "2.46740110027234"
      ]
     },
     "execution_count": 49,
     "metadata": {},
     "output_type": "execute_result"
    }
   ],
   "source": [
    "N(pi ** 2 / 4)"
   ]
  },
  {
   "cell_type": "code",
   "execution_count": 58,
   "metadata": {},
   "outputs": [
    {
     "name": "stdout",
     "output_type": "stream",
     "text": [
      "1\n",
      "59050\n"
     ]
    }
   ],
   "source": [
    "x = 1+I * sqrt(3) ** 20 / 1+I\n",
    "print (re(x))\n",
    "print (im(x))"
   ]
  },
  {
   "cell_type": "markdown",
   "metadata": {},
   "source": [
    "#### 3"
   ]
  },
  {
   "cell_type": "code",
   "execution_count": 65,
   "metadata": {},
   "outputs": [
    {
     "data": {
      "image/png": "[encoded data removed]",
      "text/latex": [
       "$\\displaystyle x x^{x^{x}} \\left(x^{x} \\left(\\log{\\left(x \\right)} + 1\\right) \\log{\\left(x \\right)} + \\frac{x^{x}}{x}\\right) e^{x^{x^{x}}} + e^{x^{x^{x}}}$"
      ],
      "text/plain": [
       "                                       ⎛ ⎛ x⎞⎞    ⎛ ⎛ x⎞⎞\n",
       "   ⎛ x⎞ ⎛                          x⎞  ⎜ ⎝x ⎠⎟    ⎜ ⎝x ⎠⎟\n",
       "   ⎝x ⎠ ⎜ x                       x ⎟  ⎝x    ⎠    ⎝x    ⎠\n",
       "x⋅x    ⋅⎜x ⋅(log(x) + 1)⋅log(x) + ──⎟⋅ℯ        + ℯ       \n",
       "        ⎝                         x ⎠                    "
      ]
     },
     "execution_count": 65,
     "metadata": {},
     "output_type": "execute_result"
    }
   ],
   "source": [
    "x, y, z = symbols('x y z')\n",
    "init_printing(use_unicode=True)\n",
    "\n",
    "# xe^x^x^x\n",
    "\n",
    "diff(x * exp (x ** x ** x) ,x )"
   ]
  },
  {
   "cell_type": "markdown",
   "metadata": {},
   "source": [
    "#### 4 "
   ]
  },
  {
   "cell_type": "code",
   "execution_count": 71,
   "metadata": {},
   "outputs": [
    {
     "name": "stdout",
     "output_type": "stream",
     "text": [
      "1\n",
      "AccumBounds(-1, 1)\n"
     ]
    }
   ],
   "source": [
    "print (limit(sin(x) / x, x, 0))\n",
    "print (limit(sin(1/x), x, 0))"
   ]
  },
  {
   "cell_type": "markdown",
   "metadata": {},
   "source": [
    "### Exercice 2 "
   ]
  },
  {
   "cell_type": "markdown",
   "metadata": {},
   "source": [
    "#### 1 "
   ]
  },
  {
   "cell_type": "code",
   "execution_count": 90,
   "metadata": {},
   "outputs": [
    {
     "data": {
      "image/png": "[encoded data removed]",
      "text/latex": [
       "$\\displaystyle 42$"
      ],
      "text/plain": [
       "42"
      ]
     },
     "execution_count": 90,
     "metadata": {},
     "output_type": "execute_result"
    }
   ],
   "source": [
    "def compter(n):\n",
    "    n = str(n)\n",
    "    return n.count(\"0\")\n",
    "\n",
    "compter(factorial(123))"
   ]
  },
  {
   "cell_type": "markdown",
   "metadata": {},
   "source": [
    "#### 2 "
   ]
  },
  {
   "cell_type": "code",
   "execution_count": null,
   "metadata": {},
   "outputs": [],
   "source": [
    "r = Symbol(\"r\")\n",
    "h = Symbol(\"h\")\n",
    "V = Symbol(\"V\")\n",
    "h = V/(pi * r ** 2)\n",
    "Aire = 2 * pi * r * h + 2 * pi * r**2 \n",
    "print(diff(Aire,r),r)\n"
   ]
  }
 ],
 "metadata": {
  "kernelspec": {
   "display_name": "Python 3",
   "language": "python",
   "name": "python3"
  },
  "language_info": {
   "codemirror_mode": {
    "name": "ipython",
    "version": 3
   },
   "file_extension": ".py",
   "mimetype": "text/x-python",
   "name": "python",
   "nbconvert_exporter": "python",
   "pygments_lexer": "ipython3",
   "version": "3.7.6"
  }
 },
 "nbformat": 4,
 "nbformat_minor": 4
}
